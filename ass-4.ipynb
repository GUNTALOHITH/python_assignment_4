{
 "cells": [
  {
   "cell_type": "code",
   "execution_count": 1,
   "id": "982d93fc-711a-4807-9c52-98fe989fea2e",
   "metadata": {},
   "outputs": [],
   "source": [
    "# Basic Level\n"
   ]
  },
  {
   "cell_type": "code",
   "execution_count": 1,
   "id": "41d02967-21f8-4203-9c1d-2e9635b58e00",
   "metadata": {},
   "outputs": [
    {
     "name": "stdout",
     "output_type": "stream",
     "text": [
      "1\n",
      "2\n",
      "3\n",
      "4\n",
      "5\n",
      "6\n",
      "7\n",
      "8\n",
      "9\n",
      "10\n"
     ]
    }
   ],
   "source": [
    "#1.Write a Python program to print the numbers from 1 to 10 using a `for` loop.\n",
    "for i in range (1,11):\n",
    "    print(i)"
   ]
  },
  {
   "cell_type": "code",
   "execution_count": 8,
   "id": "22dc0cb7-26a4-43db-8105-2b59baf001a3",
   "metadata": {},
   "outputs": [
    {
     "name": "stdout",
     "output_type": "stream",
     "text": [
      "23\n"
     ]
    }
   ],
   "source": [
    "#2.Create a program that calculates the sum of all numbers in a list using a `for` loop.\n",
    "a=[1,2,3,4,5,8]\n",
    "sum=0\n",
    "for i in a:\n",
    "    sum=sum+i\n",
    "print(sum)"
   ]
  },
  {
   "cell_type": "code",
   "execution_count": 4,
   "id": "6ac6a9c1-c428-44b2-a1b8-024cc5d4f85e",
   "metadata": {},
   "outputs": [
    {
     "name": "stdin",
     "output_type": "stream",
     "text": [
      "Enter the string: pwskills\n"
     ]
    },
    {
     "name": "stdout",
     "output_type": "stream",
     "text": [
      "Reversed string:\n",
      "sllikswp"
     ]
    }
   ],
   "source": [
    "#3.Write a program to print the characters of a string in reverse order using a `for` loop.\n",
    "a = input(\"Enter the string:\")\n",
    "print(\"Reversed string:\")\n",
    "for i in range(len(a)-1,-1,-1):\n",
    "    print(a[i],end=\"\")"
   ]
  },
  {
   "cell_type": "code",
   "execution_count": 5,
   "id": "efb58efc-0f39-45ea-a0a6-79f8f5cc3222",
   "metadata": {},
   "outputs": [
    {
     "name": "stdin",
     "output_type": "stream",
     "text": [
      "enter the number: 5\n"
     ]
    },
    {
     "name": "stdout",
     "output_type": "stream",
     "text": [
      "120\n"
     ]
    }
   ],
   "source": [
    "#4.Develop a program that finds the factorial of a given number using a `for` loop.\n",
    "a=int(input(\"enter the number:\"))\n",
    "fact=1\n",
    "for i in range(1,a+1):\n",
    "    fact=fact*i\n",
    "print(fact)"
   ]
  },
  {
   "cell_type": "code",
   "execution_count": 29,
   "id": "063eaaa7-215f-4009-9cd5-7653ff47fca1",
   "metadata": {},
   "outputs": [
    {
     "name": "stdin",
     "output_type": "stream",
     "text": [
      "enter the number for which you want to print multiplication table: 3\n"
     ]
    },
    {
     "name": "stdout",
     "output_type": "stream",
     "text": [
      "3 * 1 = 3 \n",
      "3 * 2 = 6 \n",
      "3 * 3 = 9 \n",
      "3 * 4 = 12 \n",
      "3 * 5 = 15 \n",
      "3 * 6 = 18 \n",
      "3 * 7 = 21 \n",
      "3 * 8 = 24 \n",
      "3 * 9 = 27 \n",
      "3 * 10 = 30 \n"
     ]
    }
   ],
   "source": [
    "#5.Create a program to print the multiplication table of a given number using a `for` loop.\n",
    "a=int(input(\"enter the number for which you want to print multiplication table:\"))\n",
    "for i in range(1,11):\n",
    "    print( \"%s * %s = %s \" %(a, i, a*i))"
   ]
  },
  {
   "cell_type": "code",
   "execution_count": 34,
   "id": "adc3487a-1c8a-447a-adb8-b9b86ab7b8da",
   "metadata": {},
   "outputs": [
    {
     "name": "stdout",
     "output_type": "stream",
     "text": [
      "The number of even numbers are 4 and no of odd numbers are 6\n"
     ]
    }
   ],
   "source": [
    "#6.Write a program that counts the number of even and odd numbers in a list using a `for` loop.\n",
    "a=[1,2,3,4,5,6,7,8,9,15]\n",
    "count=0\n",
    "for i in a:\n",
    "    if i%2==0:\n",
    "        count=count+1\n",
    "print(\"The number of even numbers are %s and no of odd numbers are %s\" %(count,len(a)-count))"
   ]
  },
  {
   "cell_type": "code",
   "execution_count": 6,
   "id": "f3b52bab-006f-4b67-8bde-302bfc335b01",
   "metadata": {},
   "outputs": [
    {
     "name": "stdout",
     "output_type": "stream",
     "text": [
      "1\n",
      "4\n",
      "9\n",
      "16\n",
      "25\n"
     ]
    }
   ],
   "source": [
    "#7.Develop a program that prints the squares of numbers from 1 to 5 using a `for` loop.\n",
    "for i in range(1,6):\n",
    "    print(i**2)"
   ]
  },
  {
   "cell_type": "code",
   "execution_count": 36,
   "id": "d215275f-6cf5-4b7a-950f-ca59e46b9300",
   "metadata": {},
   "outputs": [
    {
     "name": "stdin",
     "output_type": "stream",
     "text": [
      "enter the string: kavya\n"
     ]
    },
    {
     "name": "stdout",
     "output_type": "stream",
     "text": [
      "5\n"
     ]
    }
   ],
   "source": [
    "#8.Create a program to find the length of a string without using the `len()` function.\n",
    "a=str(input(\"enter the string:\"))\n",
    "count=0\n",
    "for i in a:\n",
    "    count=count+1\n",
    "print(count)"
   ]
  },
  {
   "cell_type": "code",
   "execution_count": 38,
   "id": "af5549ae-e92b-4dd0-b212-a6bdc90673ef",
   "metadata": {},
   "outputs": [
    {
     "name": "stdout",
     "output_type": "stream",
     "text": [
      "5.5\n"
     ]
    }
   ],
   "source": [
    "#9.Write a program that calculates the average of a list of numbers using a `for` loop.\n",
    "a=[1,2,3,4,5,6,7,8,9,10]\n",
    "sum=0\n",
    "for i in a:\n",
    "    sum=sum+i\n",
    "print(sum/len(a))"
   ]
  },
  {
   "cell_type": "code",
   "execution_count": 40,
   "id": "cf864391-5cc6-4b0d-a074-7b66041460cd",
   "metadata": {},
   "outputs": [
    {
     "name": "stdin",
     "output_type": "stream",
     "text": [
      "enter the limit :  13\n"
     ]
    },
    {
     "name": "stdout",
     "output_type": "stream",
     "text": [
      "0\n",
      "1\n",
      "1\n",
      "2\n",
      "3\n",
      "5\n",
      "8\n",
      "13\n",
      "21\n",
      "34\n",
      "55\n",
      "89\n",
      "144\n"
     ]
    }
   ],
   "source": [
    "#10.Develop a program that prints the first `n` Fibonacci numbers using a `for` loop.\n",
    "n=int(input(\"enter the limit : \"))\n",
    "a=0\n",
    "b=1 \n",
    "for i in range(n):\n",
    "    print(a)\n",
    "    c=a+b\n",
    "    a=b\n",
    "    b=c"
   ]
  },
  {
   "cell_type": "code",
   "execution_count": 41,
   "id": "a73b2b1a-8277-4f77-98d3-0bdbc95f4893",
   "metadata": {},
   "outputs": [],
   "source": [
    "#Intermediate Level:"
   ]
  },
  {
   "cell_type": "code",
   "execution_count": 1,
   "id": "9ce3e8d5-c707-4e47-920b-84c3c989fd02",
   "metadata": {},
   "outputs": [
    {
     "name": "stdout",
     "output_type": "stream",
     "text": [
      "The list contains duplicates\n"
     ]
    }
   ],
   "source": [
    "#11.Write a program to check if a given list contains any duplicates using a `for` loop\n",
    "a=[1,2,3,4,4,5,6,6,7,78,9,9]\n",
    "has_duplicates = False\n",
    "\n",
    "for i in range(len(a)):\n",
    "    for j in range(i+1 , len(a)):\n",
    "        if a[i] == a[j]:\n",
    "            has_duplicates = True\n",
    "            break\n",
    "if has_duplicates:\n",
    "    print(\"The list contains duplicates\")\n",
    "else:\n",
    "    print(\"The list doesn't contain any duplicates\")"
   ]
  },
  {
   "cell_type": "code",
   "execution_count": 29,
   "id": "f0793a50-10f0-4091-91de-3976cace6e47",
   "metadata": {},
   "outputs": [
    {
     "name": "stdin",
     "output_type": "stream",
     "text": [
      "Enter a number: 20\n"
     ]
    },
    {
     "name": "stdout",
     "output_type": "stream",
     "text": [
      "2\n",
      "3\n",
      "5\n",
      "7\n",
      "11\n",
      "13\n",
      "17\n",
      "19\n"
     ]
    }
   ],
   "source": [
    "# 12. Create a program that prints the prime numbers in a given range using a `for` loop.\n",
    "n = int(input(\"Enter a number:\"))\n",
    "for i in range(2,n+1):\n",
    "    for j in range(2,i):\n",
    "        if i%j==0:\n",
    "            break\n",
    "    else:\n",
    "        print(i)"
   ]
  },
  {
   "cell_type": "code",
   "execution_count": 5,
   "id": "88e4a653-7c96-4853-905f-d87dc1517b9c",
   "metadata": {},
   "outputs": [
    {
     "name": "stdin",
     "output_type": "stream",
     "text": [
      "Enter a string: pwskills\n"
     ]
    },
    {
     "name": "stdout",
     "output_type": "stream",
     "text": [
      "The number of vowels in the string is 1\n"
     ]
    }
   ],
   "source": [
    "# 13. Develop a program that counts the number of vowels in a string using a `for` loop.\n",
    "s = input(\"Enter a string:\")\n",
    "vowel_count = 0\n",
    "vowels = set(\"AEIOUaeiou\")\n",
    "for char in s:\n",
    "    if char in vowels:\n",
    "        vowel_count += 1\n",
    "print(f\"The number of vowels in the string is {vowel_count}\")\n",
    "    "
   ]
  },
  {
   "cell_type": "code",
   "execution_count": 7,
   "id": "239e6a34-9d1e-4b74-89d8-d2daac470184",
   "metadata": {},
   "outputs": [
    {
     "name": "stdout",
     "output_type": "stream",
     "text": [
      "The maximum element in a 2D list is 16\n"
     ]
    }
   ],
   "source": [
    "# 14. Write a program to find the maximum element in a 2D list using a nested `for` loop.\n",
    "t = [[3, 7, 1, 9],\n",
    "    [4, 2, 8, 5],\n",
    "    [6, 10, 12, 11],\n",
    "    [15, 13, 14, 16]]\n",
    "\n",
    "max_element = t[0][0]\n",
    "\n",
    "for row in t:\n",
    "    for element in row:\n",
    "        if element > max_element:\n",
    "            max_element = element\n",
    "\n",
    "print(f\"The maximum element in a 2D list is {max_element}\")\n",
    "\n",
    "\n"
   ]
  },
  {
   "cell_type": "code",
   "execution_count": 11,
   "id": "bb51b42c-67bf-4f89-8a04-bc14a9ea2d16",
   "metadata": {},
   "outputs": [
    {
     "name": "stdin",
     "output_type": "stream",
     "text": [
      "Enter the specific element to remove from the list: 5\n"
     ]
    },
    {
     "name": "stdout",
     "output_type": "stream",
     "text": [
      "The updated list :[1, 2, 3, 4, 6, 7, 8]\n"
     ]
    }
   ],
   "source": [
    "# 15. Create a program that removes all occurrences of a specific element from a list using a `for` loop.\n",
    "l = [1,2,3,4,5,6,7,8,5]\n",
    "a = int(input(\"Enter the specific element to remove from the list:\"))\n",
    "for i in l:\n",
    "    if i == a:\n",
    "        l.remove(i)\n",
    "print(f\"The updated list :{l}\")"
   ]
  },
  {
   "cell_type": "code",
   "execution_count": 14,
   "id": "620fa505-df33-442e-a014-4843fcd471fa",
   "metadata": {},
   "outputs": [
    {
     "name": "stdout",
     "output_type": "stream",
     "text": [
      "Table for 1:\n",
      "\n",
      "1 * 1 = 1\n",
      "1 * 2 = 2\n",
      "1 * 3 = 3\n",
      "1 * 4 = 4\n",
      "1 * 5 = 5\n",
      "1 * 6 = 6\n",
      "1 * 7 = 7\n",
      "1 * 8 = 8\n",
      "1 * 9 = 9\n",
      "1 * 10 = 10\n",
      "\n",
      "\n",
      "Table for 2:\n",
      "\n",
      "2 * 1 = 2\n",
      "2 * 2 = 4\n",
      "2 * 3 = 6\n",
      "2 * 4 = 8\n",
      "2 * 5 = 10\n",
      "2 * 6 = 12\n",
      "2 * 7 = 14\n",
      "2 * 8 = 16\n",
      "2 * 9 = 18\n",
      "2 * 10 = 20\n",
      "\n",
      "\n",
      "Table for 3:\n",
      "\n",
      "3 * 1 = 3\n",
      "3 * 2 = 6\n",
      "3 * 3 = 9\n",
      "3 * 4 = 12\n",
      "3 * 5 = 15\n",
      "3 * 6 = 18\n",
      "3 * 7 = 21\n",
      "3 * 8 = 24\n",
      "3 * 9 = 27\n",
      "3 * 10 = 30\n",
      "\n",
      "\n",
      "Table for 4:\n",
      "\n",
      "4 * 1 = 4\n",
      "4 * 2 = 8\n",
      "4 * 3 = 12\n",
      "4 * 4 = 16\n",
      "4 * 5 = 20\n",
      "4 * 6 = 24\n",
      "4 * 7 = 28\n",
      "4 * 8 = 32\n",
      "4 * 9 = 36\n",
      "4 * 10 = 40\n",
      "\n",
      "\n",
      "Table for 5:\n",
      "\n",
      "5 * 1 = 5\n",
      "5 * 2 = 10\n",
      "5 * 3 = 15\n",
      "5 * 4 = 20\n",
      "5 * 5 = 25\n",
      "5 * 6 = 30\n",
      "5 * 7 = 35\n",
      "5 * 8 = 40\n",
      "5 * 9 = 45\n",
      "5 * 10 = 50\n",
      "\n",
      "\n"
     ]
    }
   ],
   "source": [
    "# 16. Develop a program that generates a multiplication table for numbers from 1 to 5 using a nested `for` loop.\n",
    "for n in range(1,6):\n",
    "    print(f\"Table for {n}:\\n\")\n",
    "    for i in range(1,11):\n",
    "        print(\"%s * %s = %s\"%(n,i,n*i))\n",
    "    print(\"\\n\")\n"
   ]
  },
  {
   "cell_type": "code",
   "execution_count": 23,
   "id": "5e83cb33-101e-4944-af66-e5b8c9b65070",
   "metadata": {},
   "outputs": [
    {
     "name": "stdout",
     "output_type": "stream",
     "text": [
      "[0.0, 10.0, 24.444444444444443, 31.666666666666668, 38.888888888888886]\n"
     ]
    }
   ],
   "source": [
    "# 17. Write a program that converts a list of Fahrenheit temperatures to Celsius using a `for` loop.\n",
    "l = [32, 50, 76, 89, 102]\n",
    "l1 = []\n",
    "\n",
    "for i in l:\n",
    "    a = (i - 32) * 5/9\n",
    "    l1.append(a)\n",
    "\n",
    "print(l1)\n",
    "\n"
   ]
  },
  {
   "cell_type": "code",
   "execution_count": 32,
   "id": "bc6b615f-72eb-4b46-9de7-9fd32be8c7ad",
   "metadata": {},
   "outputs": [
    {
     "name": "stdout",
     "output_type": "stream",
     "text": [
      "The common elements from two lists are [2, 4, 6]\n"
     ]
    }
   ],
   "source": [
    "# 18. Create a program to print the common elements from two lists using a `for` loop.\n",
    "l1 = [1,2,3,4,5,6]\n",
    "l2 = [2,4,6,8,10,12]\n",
    "l_common = []\n",
    "for i in l1:\n",
    "    for j in l2:\n",
    "        if i == j:\n",
    "            l_common.append(i)\n",
    "            \n",
    "print(f\"The common elements from two lists are {l_common}\")"
   ]
  },
  {
   "cell_type": "code",
   "execution_count": 33,
   "id": "0f5e8a65-abcb-4743-9b88-935656aabd0b",
   "metadata": {},
   "outputs": [
    {
     "name": "stdin",
     "output_type": "stream",
     "text": [
      "Enter the number of rows for the pattern:  5\n"
     ]
    },
    {
     "name": "stdout",
     "output_type": "stream",
     "text": [
      "* \n",
      "* * \n",
      "* * * \n",
      "* * * * \n",
      "* * * * * \n"
     ]
    }
   ],
   "source": [
    "# 19. Develop a program that prints the pattern of right-angled triangles using a `for` loop. Use ‘*’ to draw the\n",
    "# pattern\n",
    "n = int(input(\"Enter the number of rows for the pattern: \"))\n",
    "\n",
    "for i in range(1,n+1):\n",
    "    for j in range(1,i+1):\n",
    "        print(\"*\" , end = \" \")\n",
    "    print()\n",
    "    "
   ]
  },
  {
   "cell_type": "code",
   "execution_count": 34,
   "id": "a31bf733-0137-4d99-b3e9-e48dbbc22339",
   "metadata": {},
   "outputs": [
    {
     "name": "stdin",
     "output_type": "stream",
     "text": [
      "Enter the first number:  4\n",
      "Enter the second number:  8\n"
     ]
    },
    {
     "name": "stdout",
     "output_type": "stream",
     "text": [
      "The greatest common divisor (GCD) of two numbers are 4\n"
     ]
    }
   ],
   "source": [
    "# 20. Write a program to find the greatest common divisor (GCD) of two numbers using a `for` loop.\n",
    "n1 = int(input(\"Enter the first number: \"))\n",
    "n2 = int(input(\"Enter the second number: \"))\n",
    "\n",
    "smaller_num = min(n1, n2)\n",
    "gcd = 1\n",
    "for i in range(1,smaller_num+1):\n",
    "    if n1%i == 0 and n2%i == 0:\n",
    "        gcd = i\n",
    "print(f\"The greatest common divisor (GCD) of two numbers are {gcd}\")"
   ]
  },
  {
   "cell_type": "code",
   "execution_count": null,
   "id": "03f940c5-44f8-45e1-9877-e38abbdca4c0",
   "metadata": {},
   "outputs": [],
   "source": [
    "# Advanced Level:"
   ]
  },
  {
   "cell_type": "code",
   "execution_count": 35,
   "id": "293e7923-148f-42d7-900d-46627ed6c5d9",
   "metadata": {},
   "outputs": [
    {
     "name": "stdout",
     "output_type": "stream",
     "text": [
      "list of sum of digits is [6, 9, 21, 9, 3]\n"
     ]
    }
   ],
   "source": [
    "# 21. Create a program that calculates the sum of the digits of numbers in a list using a list comprehension.\n",
    "n =  [123, 45, 678, 9, 12]\n",
    "# sum_of_digits = [sum(int(digit) for digit in str(number))for number in n]\n",
    "sum_of_digits = [sum(map(int , str(number)))for number in n]\n",
    "print(f\"list of sum of digits is {sum_of_digits}\")"
   ]
  },
  {
   "cell_type": "code",
   "execution_count": 37,
   "id": "107f7720-5745-4dcb-b2b3-7b3f3e1817cc",
   "metadata": {},
   "outputs": [
    {
     "name": "stdin",
     "output_type": "stream",
     "text": [
      "Enter a number:  14\n"
     ]
    },
    {
     "name": "stdout",
     "output_type": "stream",
     "text": [
      "The prime factors of 14 are: [2, 7]\n"
     ]
    }
   ],
   "source": [
    "# 22. Write a program to find the prime factors of a given number using a `for` loop and list comprehension.\n",
    "number = int(input(\"Enter a number: \"))\n",
    "\n",
    "prime_factors = [factor for factor in range(2, number + 1) if number % factor == 0 and all(factor % i != 0 for i in range(2, int(factor**0.5) + 1))]\n",
    "\n",
    "print(f\"The prime factors of {number} are: {prime_factors}\")\n"
   ]
  },
  {
   "cell_type": "code",
   "execution_count": 43,
   "id": "808e3f49-614f-4a4a-b665-336cc76a5fb4",
   "metadata": {},
   "outputs": [
    {
     "name": "stdout",
     "output_type": "stream",
     "text": [
      "Unique Elements: [1, 2, 3, 4, 5, 6, 7]\n"
     ]
    }
   ],
   "source": [
    "# 23. Develop a program that extracts unique elements from a list and stores them in a new list using a list\n",
    "# comprehension.\n",
    "l = [1, 2, 2, 3, 4, 4, 5, 6, 6, 7]\n",
    "\n",
    "l1 = [x for i, x in enumerate(l) if x not in l[:i]]\n",
    "\n",
    "print(\"Unique Elements:\", l1)\n"
   ]
  },
  {
   "cell_type": "code",
   "execution_count": 53,
   "id": "afbbe6e7-6453-4071-b580-08bba02f2aff",
   "metadata": {},
   "outputs": [
    {
     "name": "stdin",
     "output_type": "stream",
     "text": [
      "Enter a number 124\n"
     ]
    },
    {
     "data": {
      "text/plain": [
       "[11, 22, 33, 44, 55, 66, 77, 88, 99, 101, 111, 121]"
      ]
     },
     "execution_count": 53,
     "metadata": {},
     "output_type": "execute_result"
    }
   ],
   "source": [
    "# 24. Create a program that generates a list of all palindromic numbers up to a specified limit using a list\n",
    "# comprehension.\n",
    "n = int(input(\"Enter a number\"))\n",
    "palindrome = [x for x in range(11,n+1) if str(x) == str(x)[::-1]]\n",
    "palindrome"
   ]
  },
  {
   "cell_type": "code",
   "execution_count": 58,
   "id": "de89efd7-bc78-4e3f-936b-d9acaa328ff3",
   "metadata": {},
   "outputs": [
    {
     "name": "stdout",
     "output_type": "stream",
     "text": [
      "Nested List: [[1, 2, 3], [4, [5, 6]], [7, 8]]\n",
      "Flattened List: [1, 2, 3, 4, [5, 6], 7, 8]\n"
     ]
    }
   ],
   "source": [
    "# 25. Write a program to flatten a nested list using list comprehension.\n",
    "l = [[1, 2, 3], [4, [5, 6]], [7, 8]]\n",
    "\n",
    "\n",
    "f_l = [x for sublist in l for x in (sublist if isinstance(sublist, list) else [sublist])]\n",
    "\n",
    "print(\"Nested List:\", l)\n",
    "print(\"Flattened List:\", f_l)\n"
   ]
  },
  {
   "cell_type": "code",
   "execution_count": 67,
   "id": "02ba3513-6da0-46fb-a8e9-ce33f680be57",
   "metadata": {},
   "outputs": [
    {
     "name": "stdout",
     "output_type": "stream",
     "text": [
      "Original list: [1, 2, 3, 4, 5, 6, 7, 8]\n",
      "Sum of even numbers in the list: 20\n",
      "Sum of odd numbers in the list: 16\n"
     ]
    }
   ],
   "source": [
    "# 26. Develop a program that computes the sum of even and odd numbers in a list separately using list\n",
    "# comprehension.\n",
    "l = [1,2,3,4,5,6,7,8]\n",
    "sum_of_even = sum(x for x in l if x%2 == 0)\n",
    "sum_of_odd = sum(x for x in l if x%2 != 0)\n",
    "print(f\"Original list: {l}\")\n",
    "print(f\"Sum of even numbers in the list: {sum_of_even}\")\n",
    "print(f\"Sum of odd numbers in the list: {sum_of_odd}\")"
   ]
  },
  {
   "cell_type": "code",
   "execution_count": 72,
   "id": "58aa1701-baee-413f-9ad1-2c5d97a8bbcc",
   "metadata": {},
   "outputs": [
    {
     "name": "stdout",
     "output_type": "stream",
     "text": [
      " list of squares of odd numbers between 1 and 10 : [1, 9, 25, 49, 81]\n"
     ]
    }
   ],
   "source": [
    "# 27. Create a program that generates a list of squares of odd numbers between 1 and 10 using list\n",
    "# comprehension.\n",
    "l = [x**2 for x in range(1,11) if x%2 != 0 ]\n",
    "print(f\" list of squares of odd numbers between 1 and 10 : {l}\")"
   ]
  },
  {
   "cell_type": "code",
   "execution_count": 73,
   "id": "f129eb09-3269-4426-9a9a-576e298de2b0",
   "metadata": {},
   "outputs": [
    {
     "name": "stdout",
     "output_type": "stream",
     "text": [
      "Combined Dictionary: {'name': 'John', 'age': 25, 'city': 'New York'}\n"
     ]
    }
   ],
   "source": [
    "# 28. Write a program that combines two lists into a dictionary using list comprehension.\n",
    "keys = ['name', 'age', 'city']\n",
    "values = ['John', 25, 'New York']\n",
    "\n",
    "combined_dict = {keys[i]: values[i] for i in range(min(len(keys), len(values)))}\n",
    "\n",
    "print(\"Combined Dictionary:\", combined_dict)\n"
   ]
  },
  {
   "cell_type": "code",
   "execution_count": 77,
   "id": "007d0b31-890f-4337-8bc8-7abc3565cb77",
   "metadata": {},
   "outputs": [
    {
     "name": "stdin",
     "output_type": "stream",
     "text": [
      "Enter a string: lohith\n"
     ]
    },
    {
     "name": "stdout",
     "output_type": "stream",
     "text": [
      "The vowels from a string : ['o', 'i']\n"
     ]
    }
   ],
   "source": [
    "# 29. Develop a program that extracts the vowels from a string and stores them in a list using list comprehension.\n",
    "s = input(\"Enter a string:\")\n",
    "vowels = \"aeiouAEIOU\"\n",
    "l = [x for x in s if x in vowels ]\n",
    "print(f\"The vowels from a string : {l}\")"
   ]
  },
  {
   "cell_type": "code",
   "execution_count": 79,
   "id": "77d890bb-e85b-4913-89a4-67a3b2848039",
   "metadata": {},
   "outputs": [
    {
     "name": "stdout",
     "output_type": "stream",
     "text": [
      "Original List: ['abc123', '456def', '7ghi', 'jkl']\n",
      "Numeric List: ['123', '456', '7', '']\n"
     ]
    }
   ],
   "source": [
    "# 30. Create a program that removes all non-numeric characters from a list of strings using list comprehension.\n",
    "string_list = ['abc123', '456def', '7ghi', 'jkl']\n",
    "\n",
    "numeric_list = [''.join(char for char in s if char.isnumeric()) for s in string_list]\n",
    "\n",
    "print(\"Original List:\", string_list)\n",
    "print(\"Numeric List:\", numeric_list)\n"
   ]
  },
  {
   "cell_type": "code",
   "execution_count": 81,
   "id": "1767b7ac-ae08-402d-96ff-b04b24c9b463",
   "metadata": {},
   "outputs": [],
   "source": [
    "# Challenge Level:"
   ]
  },
  {
   "cell_type": "code",
   "execution_count": 89,
   "id": "3126dd3b-4004-4e12-bb79-e0ff6ae92765",
   "metadata": {},
   "outputs": [
    {
     "name": "stdin",
     "output_type": "stream",
     "text": [
      "Enter the upper limit for prime numbers:  25\n"
     ]
    },
    {
     "name": "stdout",
     "output_type": "stream",
     "text": [
      "Prime Numbers up to 25 : [2, 3, 5, 7, 11, 13, 17, 19, 23]\n"
     ]
    }
   ],
   "source": [
    "# 31. Write a program to generate a list of prime numbers using the Sieve of Eratosthenes algorithm and list\n",
    "# comprehension.\n",
    "# Input the upper limit\n",
    "limit = int(input(\"Enter the upper limit for prime numbers: \"))\n",
    "\n",
    "# Sieve of Eratosthenes algorithm\n",
    "sieve = [True] * (limit + 1)\n",
    "sieve[0], sieve[1] = False, False  # 0 and 1 are not primes\n",
    "\n",
    "for num in range(2, int(limit**0.5) + 1):\n",
    "    if sieve[num]:\n",
    "        sieve[num*num : limit+1 : num] = [False] * len(range(num*num, limit + 1, num))\n",
    "\n",
    "# List comprehension to extract prime numbers\n",
    "primes = [num for num in range(2, limit + 1) if sieve[num]]\n",
    "\n",
    "# Print the result\n",
    "print(\"Prime Numbers up to\", limit, \":\", primes)\n",
    "\n"
   ]
  },
  {
   "cell_type": "code",
   "execution_count": 93,
   "id": "3a61dbe4-d9b8-4bea-aca5-c250c097ce87",
   "metadata": {},
   "outputs": [
    {
     "name": "stdin",
     "output_type": "stream",
     "text": [
      "Enter the upper limit for Pythagorean triplets:  15\n"
     ]
    },
    {
     "name": "stdout",
     "output_type": "stream",
     "text": [
      "Pythagorean Triplets up to 15 : [(6, 8, 10), (5, 12, 13), (3, 4, 5), (9, 12, 15)]\n"
     ]
    }
   ],
   "source": [
    "# 32. Create a program that generates a list of all Pythagorean triplets up to a specified limit using list\n",
    "# comprehension.\n",
    "a = int(input(\"Enter the upper limit for Pythagorean triplets: \"))\n",
    "\n",
    "t = [(a, b, c) for a in range(1, limit + 1)\n",
    "                      for b in range(a, limit + 1)\n",
    "                      for c in range(b, limit + 1)\n",
    "                      if a**2 + b**2 == c**2]\n",
    "\n",
    "u_t = list(set(t))\n",
    "\n",
    "print(\"Pythagorean Triplets up to\", a, \":\", u_t)\n"
   ]
  },
  {
   "cell_type": "code",
   "execution_count": 94,
   "id": "72a69ca6-abc5-44e9-baa2-14b5988a9494",
   "metadata": {},
   "outputs": [
    {
     "name": "stdout",
     "output_type": "stream",
     "text": [
      "List 1: [1, 2, 3]\n",
      "List 2: ['a', 'b', 'c']\n",
      "All Possible Combinations: [(1, 'a'), (1, 'b'), (1, 'c'), (2, 'a'), (2, 'b'), (2, 'c'), (3, 'a'), (3, 'b'), (3, 'c')]\n"
     ]
    }
   ],
   "source": [
    "# 33. Develop a program that generates a list of all possible combinations of two lists using list comprehension.\n",
    "l1 = [1, 2, 3]\n",
    "l2 = ['a', 'b', 'c']\n",
    "\n",
    "c = [(x, y) for x in l1 for y in l2]\n",
    "\n",
    "print(\"List 1:\", l1)\n",
    "print(\"List 2:\", l2)\n",
    "print(\"All Possible Combinations:\", c)\n"
   ]
  },
  {
   "cell_type": "code",
   "execution_count": 99,
   "id": "1655a4f0-44a2-4c29-9395-38f1815a1f85",
   "metadata": {},
   "outputs": [
    {
     "name": "stdout",
     "output_type": "stream",
     "text": [
      "List of Numbers: [2, 4, 4, 4, 5, 5, 7, 9]\n",
      "Mean: 5.0\n",
      "Median: 4.5\n",
      "Mode: 4\n"
     ]
    }
   ],
   "source": [
    "# 34. Write a program that calculates the mean, median, and mode of a list of numbers using list\n",
    "# comprehension.\n",
    "numbers = [2, 4, 4, 4, 5, 5, 7, 9]\n",
    "\n",
    "mean = sum(numbers) / len(numbers)\n",
    "median = sorted(numbers)[len(numbers)//2] if len(numbers) % 2 != 0 else (sorted(numbers)[len(numbers)//2 - 1] + sorted(numbers)[len(numbers)//2]) / 2\n",
    "mode = max(set(numbers), key=numbers.count)\n",
    "\n",
    "print(\"List of Numbers:\", numbers)\n",
    "print(\"Mean:\", mean)\n",
    "print(\"Median:\", median)\n",
    "print(\"Mode:\", mode)\n",
    "\n"
   ]
  },
  {
   "cell_type": "code",
   "execution_count": 103,
   "id": "2e286522-edff-45e4-8e54-f24ad46ea2ef",
   "metadata": {},
   "outputs": [
    {
     "name": "stdin",
     "output_type": "stream",
     "text": [
      "Enter the number of rows for Pascal's triangle:  4\n"
     ]
    },
    {
     "name": "stdout",
     "output_type": "stream",
     "text": [
      "Pascal's Triangle up to 4 rows:\n",
      "[1, 1]\n",
      "[1, 2, 1]\n",
      "[1, 2, 1]\n",
      "[1, 2, 1]\n"
     ]
    }
   ],
   "source": [
    "# 35. Create a program that generates Pascal's triangle up to a specified number of rows using list\n",
    "# comprehension.\n",
    "num_rows = int(input(\"Enter the number of rows for Pascal's triangle: \"))\n",
    "\n",
    "pascals_triangle = [[1] + [sum(pair) for pair in zip(row, row[1:])] + [1] for row in [[1]] + [[1, 1] for _ in range(num_rows - 1)]]\n",
    "\n",
    "print(\"Pascal's Triangle up to\", num_rows, \"rows:\")\n",
    "for row in pascals_triangle:\n",
    "    print(row)\n",
    "\n"
   ]
  },
  {
   "cell_type": "code",
   "execution_count": 104,
   "id": "82013b85-b105-4e31-b4a6-ba6b76dcbc9c",
   "metadata": {},
   "outputs": [
    {
     "name": "stdout",
     "output_type": "stream",
     "text": [
      "Factorials: [1, 2, 6, 24, 120]\n",
      "Sum of Digits of Factorials: [1, 2, 6, 6, 3]\n"
     ]
    }
   ],
   "source": [
    "# 36. Develop a program that calculates the sum of the digits of a factorial of numbers from 1 to 5 using list\n",
    "# comprehension.\n",
    "def factorial(n):\n",
    "    return 1 if n == 0 or n == 1 else n * factorial(n - 1)\n",
    "\n",
    "sum_of_digit_sums = [sum(int(digit) for digit in str(factorial(i))) for i in range(1, 6)]\n",
    "\n",
    "print(\"Factorials:\", [factorial(i) for i in range(1, 6)])\n",
    "print(\"Sum of Digits of Factorials:\", sum_of_digit_sums)\n"
   ]
  },
  {
   "cell_type": "code",
   "execution_count": 106,
   "id": "d864761e-98c7-462e-b720-d8d72c610f16",
   "metadata": {},
   "outputs": [
    {
     "name": "stdin",
     "output_type": "stream",
     "text": [
      "Enter a sentence:  Buying a new PC is no longer required, Access unlimited computing power!\n"
     ]
    },
    {
     "name": "stdout",
     "output_type": "stream",
     "text": [
      "Longest word in the sentence: unlimited\n"
     ]
    }
   ],
   "source": [
    "# 37. Write a program that finds the longest word in a sentence using list comprehension.\n",
    "sentence = input(\"Enter a sentence: \")\n",
    "\n",
    "longest_word = max([word.strip(\".,?!\") for word in sentence.split()], key=len)\n",
    "\n",
    "print(\"Longest word in the sentence:\", longest_word)\n"
   ]
  },
  {
   "cell_type": "code",
   "execution_count": 108,
   "id": "6e4b4e53-d630-4978-ad13-955a7b0f8350",
   "metadata": {},
   "outputs": [
    {
     "name": "stdout",
     "output_type": "stream",
     "text": [
      "Original List: ['apple', 'banana', 'grape', 'kiwi', 'pear', 'orange']\n",
      "Filtered List (more than three vowels): ['banana', 'orange']\n"
     ]
    }
   ],
   "source": [
    "# 38. Create a program that filters a list of strings to include only those with more than three vowels using list\n",
    "# comprehension.\n",
    "string_list = ['apple', 'banana', 'grape', 'kiwi', 'pear', 'orange']\n",
    "\n",
    "def count_vowels(word):\n",
    "    return sum(1 for char in word if char.lower() in 'aeiou')\n",
    "\n",
    "filtered_list = [word for word in string_list if count_vowels(word) > 2]\n",
    "\n",
    "print(\"Original List:\", string_list)\n",
    "print(\"Filtered List (more than three vowels):\", filtered_list)\n"
   ]
  },
  {
   "cell_type": "code",
   "execution_count": 109,
   "id": "264e1d9c-71c6-4972-b0a6-e7d966c6c6b7",
   "metadata": {},
   "outputs": [
    {
     "name": "stdout",
     "output_type": "stream",
     "text": [
      "Sum of Digits for Numbers from 1 to 1000: 13501\n"
     ]
    }
   ],
   "source": [
    "# 39. Develop a program that calculates the sum of the digits of numbers from 1 to 1000 using list\n",
    "# comprehension.\n",
    "digit_sums = [sum(int(digit) for digit in str(number)) for number in range(1, 1001)]\n",
    "\n",
    "print(\"Sum of Digits for Numbers from 1 to 1000:\", sum(digit_sums))\n"
   ]
  },
  {
   "cell_type": "code",
   "execution_count": null,
   "id": "80ea9a5c-18d3-4e80-b1ad-f5f2a54b9a69",
   "metadata": {},
   "outputs": [],
   "source": []
  },
  {
   "cell_type": "code",
   "execution_count": null,
   "id": "8e5fa3ee-d01b-4a66-b3e8-e5181c2efadb",
   "metadata": {},
   "outputs": [],
   "source": []
  },
  {
   "cell_type": "code",
   "execution_count": null,
   "id": "22f7e830-ac2c-48e7-8f8c-82bb3dea0a8c",
   "metadata": {},
   "outputs": [],
   "source": []
  },
  {
   "cell_type": "code",
   "execution_count": null,
   "id": "aeebd5c4-c7fd-472b-b871-3cb7277d2048",
   "metadata": {},
   "outputs": [],
   "source": []
  },
  {
   "cell_type": "code",
   "execution_count": null,
   "id": "cc95a50d-352f-4e0c-84bf-9742a5d8b8fe",
   "metadata": {},
   "outputs": [],
   "source": []
  },
  {
   "cell_type": "code",
   "execution_count": null,
   "id": "e6fe38d1-db7e-4bf6-bb7d-df7126fdf40f",
   "metadata": {},
   "outputs": [],
   "source": []
  }
 ],
 "metadata": {
  "kernelspec": {
   "display_name": "Python 3 (ipykernel)",
   "language": "python",
   "name": "python3"
  },
  "language_info": {
   "codemirror_mode": {
    "name": "ipython",
    "version": 3
   },
   "file_extension": ".py",
   "mimetype": "text/x-python",
   "name": "python",
   "nbconvert_exporter": "python",
   "pygments_lexer": "ipython3",
   "version": "3.10.8"
  }
 },
 "nbformat": 4,
 "nbformat_minor": 5
}
